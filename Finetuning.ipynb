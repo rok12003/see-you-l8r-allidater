{
 "cells": [
  {
   "cell_type": "markdown",
   "metadata": {},
   "source": [
    "### Fine-tuning GPT using Compatible Pairs\n",
    "\n",
    "This file fine-tunes GPT-2 using computed pairs from the matching algorithm that exceed a certain cosine similiarity threshold."
   ]
  },
  {
   "cell_type": "code",
   "execution_count": null,
   "metadata": {},
   "outputs": [],
   "source": [
    "import pandas as pd\n",
    "from transformers import GPT2LMHeadModel, GPT2Tokenizer, TextDataset, DataCollatorForLanguageModeling, Trainer, TrainingArguments"
   ]
  },
  {
   "cell_type": "code",
   "execution_count": null,
   "metadata": {},
   "outputs": [],
   "source": [
    "## ASSUMES DATAFRAME IS IN THE FOLLOWING FORMAT:\n",
    "## ROW 1: PERSON 1'S TEXT (INPUT)\n",
    "## ROW 2: PERSON 2'S TEXT (OUTPUT)\n",
    "## ROW 3: COSINE SIMILARITY\n",
    "\n",
    "## Modify to appropriate file path\n",
    "conversations_df = pd.read_csv('.../.csv)')\n",
    "\n",
    "## Need to set value\n",
    "threshold = VALUE \n",
    "\n",
    "input_output_pairs = []\n",
    "\n",
    "## Change to appropriate row names\n",
    "for index, row in conversations_df.iterrows():\n",
    "    cosine_similarity = row['cosine_similarity']\n",
    "    if cosine_similarity > threshold:\n",
    "        input_text = row['person1'] + \"\\n\"\n",
    "        output_text = row['person2'] + \"\\n\"\n",
    "        input_output_pairs.append(input_text + output_text)\n",
    "\n",
    "with open(\"input_output_pairs.txt\", \"w\") as f:\n",
    "    f.write(\"\\n\".join(input_output_pairs))\n",
    "\n",
    "def fine_tune_gpt2(train_file, output_dir):\n",
    "    model = GPT2LMHeadModel.from_pretrained(\"gpt2\")\n",
    "    tokenizer = GPT2Tokenizer.from_pretrained(\"gpt2\")\n",
    "\n",
    "    train_dataset = TextDataset(\n",
    "        tokenizer=tokenizer,\n",
    "        file_path=train_file,\n",
    "        block_size=128)\n",
    "\n",
    "    data_collator = DataCollatorForLanguageModeling(\n",
    "        tokenizer=tokenizer, mlm=False)\n",
    "\n",
    "    training_args = TrainingArguments(\n",
    "        output_dir=output_dir,\n",
    "        overwrite_output_dir=True,\n",
    "        num_train_epochs=5,\n",
    "        per_device_train_batch_size=4,\n",
    "        save_steps=10_000,\n",
    "        save_total_limit=2,\n",
    "    )\n",
    "\n",
    "    trainer = Trainer(\n",
    "        model=model,\n",
    "        args=training_args,\n",
    "        data_collator=data_collator,\n",
    "        train_dataset=train_dataset,\n",
    "    )\n",
    "\n",
    "    trainer.train()\n",
    "\n",
    "    model.save_pretrained(output_dir)\n",
    "    tokenizer.save_pretrained(output_dir)\n",
    "\n",
    "fine_tune_gpt2(\"input_output_pairs.txt\", \"fine_tuned_model\")"
   ]
  }
 ],
 "metadata": {
  "language_info": {
   "name": "python"
  }
 },
 "nbformat": 4,
 "nbformat_minor": 2
}
