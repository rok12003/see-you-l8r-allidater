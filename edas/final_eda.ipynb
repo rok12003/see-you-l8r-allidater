{
 "cells": [
  {
   "cell_type": "markdown",
   "metadata": {},
   "source": [
    "# Exploratory Data Analysis"
   ]
  },
  {
   "cell_type": "code",
   "execution_count": 1,
   "metadata": {},
   "outputs": [
    {
     "name": "stdout",
     "output_type": "stream",
     "text": [
      "2.2.0\n",
      "1.26.3\n"
     ]
    }
   ],
   "source": [
    "# Import statements:\n",
    "import pandas as pd\n",
    "import numpy as np\n",
    "\n",
    "# Checking versions:\n",
    "pd_version = pd.__version__\n",
    "np_version = np.__version__\n",
    "print(pd_version)\n",
    "print(np_version)"
   ]
  },
  {
   "cell_type": "markdown",
   "metadata": {},
   "source": [
    "## Loading data & running basic stats:"
   ]
  },
  {
   "cell_type": "code",
   "execution_count": 2,
   "metadata": {},
   "outputs": [],
   "source": [
    "# Loading data:\n",
    "df = pd.read_csv(\"/Users/rohitkandala/Desktop/UChicago/Academic Quarters/2023-24/Winter 2024/CAPP 30255/Project/okcupid_profiles.csv\")"
   ]
  },
  {
   "cell_type": "code",
   "execution_count": 3,
   "metadata": {},
   "outputs": [
    {
     "data": {
      "text/plain": [
       "(59946, 31)"
      ]
     },
     "execution_count": 3,
     "metadata": {},
     "output_type": "execute_result"
    }
   ],
   "source": [
    "# Shape:\n",
    "df.shape"
   ]
  },
  {
   "cell_type": "code",
   "execution_count": 4,
   "metadata": {},
   "outputs": [
    {
     "data": {
      "text/html": [
       "<div>\n",
       "<style scoped>\n",
       "    .dataframe tbody tr th:only-of-type {\n",
       "        vertical-align: middle;\n",
       "    }\n",
       "\n",
       "    .dataframe tbody tr th {\n",
       "        vertical-align: top;\n",
       "    }\n",
       "\n",
       "    .dataframe thead th {\n",
       "        text-align: right;\n",
       "    }\n",
       "</style>\n",
       "<table border=\"1\" class=\"dataframe\">\n",
       "  <thead>\n",
       "    <tr style=\"text-align: right;\">\n",
       "      <th></th>\n",
       "      <th>age</th>\n",
       "      <th>height</th>\n",
       "      <th>income</th>\n",
       "    </tr>\n",
       "  </thead>\n",
       "  <tbody>\n",
       "    <tr>\n",
       "      <th>count</th>\n",
       "      <td>59946.000000</td>\n",
       "      <td>59943.000000</td>\n",
       "      <td>59946.000000</td>\n",
       "    </tr>\n",
       "    <tr>\n",
       "      <th>mean</th>\n",
       "      <td>32.340290</td>\n",
       "      <td>68.295281</td>\n",
       "      <td>20033.222534</td>\n",
       "    </tr>\n",
       "    <tr>\n",
       "      <th>std</th>\n",
       "      <td>9.452779</td>\n",
       "      <td>3.994803</td>\n",
       "      <td>97346.192104</td>\n",
       "    </tr>\n",
       "    <tr>\n",
       "      <th>min</th>\n",
       "      <td>18.000000</td>\n",
       "      <td>1.000000</td>\n",
       "      <td>-1.000000</td>\n",
       "    </tr>\n",
       "    <tr>\n",
       "      <th>25%</th>\n",
       "      <td>26.000000</td>\n",
       "      <td>66.000000</td>\n",
       "      <td>-1.000000</td>\n",
       "    </tr>\n",
       "    <tr>\n",
       "      <th>50%</th>\n",
       "      <td>30.000000</td>\n",
       "      <td>68.000000</td>\n",
       "      <td>-1.000000</td>\n",
       "    </tr>\n",
       "    <tr>\n",
       "      <th>75%</th>\n",
       "      <td>37.000000</td>\n",
       "      <td>71.000000</td>\n",
       "      <td>-1.000000</td>\n",
       "    </tr>\n",
       "    <tr>\n",
       "      <th>max</th>\n",
       "      <td>110.000000</td>\n",
       "      <td>95.000000</td>\n",
       "      <td>1000000.000000</td>\n",
       "    </tr>\n",
       "  </tbody>\n",
       "</table>\n",
       "</div>"
      ],
      "text/plain": [
       "                age        height          income\n",
       "count  59946.000000  59943.000000    59946.000000\n",
       "mean      32.340290     68.295281    20033.222534\n",
       "std        9.452779      3.994803    97346.192104\n",
       "min       18.000000      1.000000       -1.000000\n",
       "25%       26.000000     66.000000       -1.000000\n",
       "50%       30.000000     68.000000       -1.000000\n",
       "75%       37.000000     71.000000       -1.000000\n",
       "max      110.000000     95.000000  1000000.000000"
      ]
     },
     "execution_count": 4,
     "metadata": {},
     "output_type": "execute_result"
    }
   ],
   "source": [
    "# Summarize function for numerical variables:\n",
    "df.describe()"
   ]
  },
  {
   "cell_type": "code",
   "execution_count": 96,
   "metadata": {},
   "outputs": [
    {
     "data": {
      "text/html": [
       "<div>\n",
       "<style scoped>\n",
       "    .dataframe tbody tr th:only-of-type {\n",
       "        vertical-align: middle;\n",
       "    }\n",
       "\n",
       "    .dataframe tbody tr th {\n",
       "        vertical-align: top;\n",
       "    }\n",
       "\n",
       "    .dataframe thead th {\n",
       "        text-align: right;\n",
       "    }\n",
       "</style>\n",
       "<table border=\"1\" class=\"dataframe\">\n",
       "  <thead>\n",
       "    <tr style=\"text-align: right;\">\n",
       "      <th></th>\n",
       "      <th>status</th>\n",
       "      <th>sex</th>\n",
       "      <th>orientation</th>\n",
       "      <th>body_type</th>\n",
       "      <th>diet</th>\n",
       "      <th>drinks</th>\n",
       "      <th>drugs</th>\n",
       "      <th>education</th>\n",
       "      <th>job</th>\n",
       "      <th>offspring</th>\n",
       "      <th>pets</th>\n",
       "      <th>religion</th>\n",
       "      <th>sign</th>\n",
       "      <th>smokes</th>\n",
       "    </tr>\n",
       "  </thead>\n",
       "  <tbody>\n",
       "    <tr>\n",
       "      <th>count</th>\n",
       "      <td>59946</td>\n",
       "      <td>59946</td>\n",
       "      <td>59946</td>\n",
       "      <td>54650</td>\n",
       "      <td>35551</td>\n",
       "      <td>56961</td>\n",
       "      <td>45866</td>\n",
       "      <td>53318</td>\n",
       "      <td>51748</td>\n",
       "      <td>24385</td>\n",
       "      <td>40025</td>\n",
       "      <td>39720</td>\n",
       "      <td>48890</td>\n",
       "      <td>54434</td>\n",
       "    </tr>\n",
       "    <tr>\n",
       "      <th>unique</th>\n",
       "      <td>5</td>\n",
       "      <td>2</td>\n",
       "      <td>3</td>\n",
       "      <td>12</td>\n",
       "      <td>18</td>\n",
       "      <td>6</td>\n",
       "      <td>3</td>\n",
       "      <td>32</td>\n",
       "      <td>21</td>\n",
       "      <td>15</td>\n",
       "      <td>15</td>\n",
       "      <td>45</td>\n",
       "      <td>48</td>\n",
       "      <td>5</td>\n",
       "    </tr>\n",
       "    <tr>\n",
       "      <th>top</th>\n",
       "      <td>single</td>\n",
       "      <td>m</td>\n",
       "      <td>straight</td>\n",
       "      <td>average</td>\n",
       "      <td>mostly anything</td>\n",
       "      <td>socially</td>\n",
       "      <td>never</td>\n",
       "      <td>graduated from college/university</td>\n",
       "      <td>other</td>\n",
       "      <td>doesn't have kids</td>\n",
       "      <td>likes dogs and likes cats</td>\n",
       "      <td>agnosticism</td>\n",
       "      <td>gemini and it&amp;rsquo;s fun to think about</td>\n",
       "      <td>no</td>\n",
       "    </tr>\n",
       "    <tr>\n",
       "      <th>freq</th>\n",
       "      <td>55697</td>\n",
       "      <td>35829</td>\n",
       "      <td>51606</td>\n",
       "      <td>14652</td>\n",
       "      <td>16585</td>\n",
       "      <td>41780</td>\n",
       "      <td>37724</td>\n",
       "      <td>23959</td>\n",
       "      <td>7589</td>\n",
       "      <td>7560</td>\n",
       "      <td>14814</td>\n",
       "      <td>2724</td>\n",
       "      <td>1782</td>\n",
       "      <td>43896</td>\n",
       "    </tr>\n",
       "  </tbody>\n",
       "</table>\n",
       "</div>"
      ],
      "text/plain": [
       "        status    sex orientation body_type             diet    drinks  drugs  \\\n",
       "count    59946  59946       59946     54650            35551     56961  45866   \n",
       "unique       5      2           3        12               18         6      3   \n",
       "top     single      m    straight   average  mostly anything  socially  never   \n",
       "freq     55697  35829       51606     14652            16585     41780  37724   \n",
       "\n",
       "                                education    job          offspring  \\\n",
       "count                               53318  51748              24385   \n",
       "unique                                 32     21                 15   \n",
       "top     graduated from college/university  other  doesn't have kids   \n",
       "freq                                23959   7589               7560   \n",
       "\n",
       "                             pets     religion  \\\n",
       "count                       40025        39720   \n",
       "unique                         15           45   \n",
       "top     likes dogs and likes cats  agnosticism   \n",
       "freq                        14814         2724   \n",
       "\n",
       "                                            sign smokes  \n",
       "count                                      48890  54434  \n",
       "unique                                        48      5  \n",
       "top     gemini and it&rsquo;s fun to think about     no  \n",
       "freq                                        1782  43896  "
      ]
     },
     "execution_count": 96,
     "metadata": {},
     "output_type": "execute_result"
    }
   ],
   "source": [
    "# Summary for categorical variables:\n",
    "describe_output = df.describe(include=\"object\").drop(columns=[\n",
    "    \"essay0\", \"essay1\", \"essay2\", \"essay3\", \"essay4\", \"essay5\", \"essay6\", \n",
    "    \"essay7\", \"essay8\", \"essay9\", \"last_online\", \"speaks\", \"ethnicity\", \n",
    "    \"location\"])\n",
    "\n",
    "# Dropping essays, last_online, speaks, location, ethnicity because there are \n",
    "# too many uniques:\n",
    "describe_output"
   ]
  },
  {
   "cell_type": "code",
   "execution_count": 101,
   "metadata": {},
   "outputs": [
    {
     "data": {
      "text/plain": [
       "{'status': ['single', 'available', 'seeing someone', 'married', 'unknown'],\n",
       " 'sex': ['m', 'f'],\n",
       " 'orientation': ['straight', 'bisexual', 'gay'],\n",
       " 'body_type': ['a little extra',\n",
       "  'average',\n",
       "  'thin',\n",
       "  'athletic',\n",
       "  'fit',\n",
       "  nan,\n",
       "  'skinny',\n",
       "  'curvy',\n",
       "  'full figured',\n",
       "  'jacked',\n",
       "  'rather not say',\n",
       "  'used up',\n",
       "  'overweight'],\n",
       " 'diet': ['strictly anything',\n",
       "  'mostly other',\n",
       "  'anything',\n",
       "  'vegetarian',\n",
       "  nan,\n",
       "  'mostly anything',\n",
       "  'mostly vegetarian',\n",
       "  'strictly vegan',\n",
       "  'strictly vegetarian',\n",
       "  'mostly vegan',\n",
       "  'strictly other',\n",
       "  'mostly halal',\n",
       "  'other',\n",
       "  'vegan',\n",
       "  'mostly kosher',\n",
       "  'strictly halal',\n",
       "  'halal',\n",
       "  'strictly kosher',\n",
       "  'kosher'],\n",
       " 'drinks': ['socially',\n",
       "  'often',\n",
       "  'not at all',\n",
       "  'rarely',\n",
       "  nan,\n",
       "  'very often',\n",
       "  'desperately'],\n",
       " 'drugs': ['never', 'sometimes', nan, 'often'],\n",
       " 'education': ['working on college/university',\n",
       "  'working on space camp',\n",
       "  'graduated from masters program',\n",
       "  'graduated from college/university',\n",
       "  'working on two-year college',\n",
       "  nan,\n",
       "  'graduated from high school',\n",
       "  'working on masters program',\n",
       "  'graduated from space camp',\n",
       "  'college/university',\n",
       "  'dropped out of space camp',\n",
       "  'graduated from ph.d program',\n",
       "  'graduated from law school',\n",
       "  'working on ph.d program',\n",
       "  'two-year college',\n",
       "  'graduated from two-year college',\n",
       "  'working on med school',\n",
       "  'dropped out of college/university',\n",
       "  'space camp',\n",
       "  'graduated from med school',\n",
       "  'dropped out of high school',\n",
       "  'working on high school',\n",
       "  'masters program',\n",
       "  'dropped out of ph.d program',\n",
       "  'dropped out of two-year college',\n",
       "  'dropped out of med school',\n",
       "  'high school',\n",
       "  'working on law school',\n",
       "  'law school',\n",
       "  'dropped out of masters program',\n",
       "  'ph.d program',\n",
       "  'dropped out of law school',\n",
       "  'med school'],\n",
       " 'job': ['transportation',\n",
       "  'hospitality / travel',\n",
       "  nan,\n",
       "  'student',\n",
       "  'artistic / musical / writer',\n",
       "  'computer / hardware / software',\n",
       "  'banking / financial / real estate',\n",
       "  'entertainment / media',\n",
       "  'sales / marketing / biz dev',\n",
       "  'other',\n",
       "  'medicine / health',\n",
       "  'science / tech / engineering',\n",
       "  'executive / management',\n",
       "  'education / academia',\n",
       "  'clerical / administrative',\n",
       "  'construction / craftsmanship',\n",
       "  'rather not say',\n",
       "  'political / government',\n",
       "  'law / legal services',\n",
       "  'unemployed',\n",
       "  'military',\n",
       "  'retired'],\n",
       " 'offspring': [\"doesn't have kids, but might want them\",\n",
       "  nan,\n",
       "  \"doesn't want kids\",\n",
       "  \"doesn't have kids, but wants them\",\n",
       "  \"doesn't have kids\",\n",
       "  'wants kids',\n",
       "  'has a kid',\n",
       "  'has kids',\n",
       "  \"doesn't have kids, and doesn't want any\",\n",
       "  \"has kids, but doesn't want more\",\n",
       "  \"has a kid, but doesn't want more\",\n",
       "  'has a kid, and wants more',\n",
       "  'has kids, and might want more',\n",
       "  'might want kids',\n",
       "  'has a kid, and might want more',\n",
       "  'has kids, and wants more'],\n",
       " 'pets': ['likes dogs and likes cats',\n",
       "  'has cats',\n",
       "  'likes cats',\n",
       "  nan,\n",
       "  'has dogs and likes cats',\n",
       "  'likes dogs and has cats',\n",
       "  'likes dogs and dislikes cats',\n",
       "  'has dogs',\n",
       "  'has dogs and dislikes cats',\n",
       "  'likes dogs',\n",
       "  'has dogs and has cats',\n",
       "  'dislikes dogs and has cats',\n",
       "  'dislikes dogs and dislikes cats',\n",
       "  'dislikes cats',\n",
       "  'dislikes dogs and likes cats',\n",
       "  'dislikes dogs'],\n",
       " 'religion': ['agnosticism and very serious about it',\n",
       "  'agnosticism but not too serious about it',\n",
       "  nan,\n",
       "  'atheism',\n",
       "  'christianity',\n",
       "  'christianity but not too serious about it',\n",
       "  'atheism and laughing about it',\n",
       "  'christianity and very serious about it',\n",
       "  'other',\n",
       "  'catholicism',\n",
       "  'catholicism but not too serious about it',\n",
       "  'catholicism and somewhat serious about it',\n",
       "  'agnosticism and somewhat serious about it',\n",
       "  'catholicism and laughing about it',\n",
       "  'agnosticism and laughing about it',\n",
       "  'agnosticism',\n",
       "  'atheism and somewhat serious about it',\n",
       "  'buddhism but not too serious about it',\n",
       "  'other but not too serious about it',\n",
       "  'buddhism',\n",
       "  'other and laughing about it',\n",
       "  'judaism but not too serious about it',\n",
       "  'buddhism and laughing about it',\n",
       "  'other and somewhat serious about it',\n",
       "  'other and very serious about it',\n",
       "  'hinduism but not too serious about it',\n",
       "  'atheism but not too serious about it',\n",
       "  'judaism',\n",
       "  'christianity and somewhat serious about it',\n",
       "  'hinduism and very serious about it',\n",
       "  'atheism and very serious about it',\n",
       "  'judaism and laughing about it',\n",
       "  'christianity and laughing about it',\n",
       "  'hinduism and laughing about it',\n",
       "  'buddhism and somewhat serious about it',\n",
       "  'islam and very serious about it',\n",
       "  'islam',\n",
       "  'hinduism',\n",
       "  'judaism and somewhat serious about it',\n",
       "  'catholicism and very serious about it',\n",
       "  'judaism and very serious about it',\n",
       "  'hinduism and somewhat serious about it',\n",
       "  'islam but not too serious about it',\n",
       "  'buddhism and very serious about it',\n",
       "  'islam and laughing about it',\n",
       "  'islam and somewhat serious about it'],\n",
       " 'sign': ['gemini',\n",
       "  'cancer',\n",
       "  'pisces but it doesn&rsquo;t matter',\n",
       "  'pisces',\n",
       "  'aquarius',\n",
       "  'taurus',\n",
       "  'virgo',\n",
       "  'sagittarius',\n",
       "  'gemini but it doesn&rsquo;t matter',\n",
       "  'cancer but it doesn&rsquo;t matter',\n",
       "  'leo but it doesn&rsquo;t matter',\n",
       "  nan,\n",
       "  'aquarius but it doesn&rsquo;t matter',\n",
       "  'aries and it&rsquo;s fun to think about',\n",
       "  'libra but it doesn&rsquo;t matter',\n",
       "  'pisces and it&rsquo;s fun to think about',\n",
       "  'libra',\n",
       "  'taurus but it doesn&rsquo;t matter',\n",
       "  'sagittarius but it doesn&rsquo;t matter',\n",
       "  'scorpio and it matters a lot',\n",
       "  'gemini and it&rsquo;s fun to think about',\n",
       "  'leo and it&rsquo;s fun to think about',\n",
       "  'cancer and it&rsquo;s fun to think about',\n",
       "  'libra and it&rsquo;s fun to think about',\n",
       "  'aquarius and it&rsquo;s fun to think about',\n",
       "  'virgo but it doesn&rsquo;t matter',\n",
       "  'scorpio and it&rsquo;s fun to think about',\n",
       "  'capricorn but it doesn&rsquo;t matter',\n",
       "  'scorpio',\n",
       "  'capricorn and it&rsquo;s fun to think about',\n",
       "  'leo',\n",
       "  'aries but it doesn&rsquo;t matter',\n",
       "  'aries',\n",
       "  'scorpio but it doesn&rsquo;t matter',\n",
       "  'sagittarius and it&rsquo;s fun to think about',\n",
       "  'libra and it matters a lot',\n",
       "  'taurus and it&rsquo;s fun to think about',\n",
       "  'leo and it matters a lot',\n",
       "  'virgo and it&rsquo;s fun to think about',\n",
       "  'cancer and it matters a lot',\n",
       "  'capricorn',\n",
       "  'pisces and it matters a lot',\n",
       "  'aries and it matters a lot',\n",
       "  'capricorn and it matters a lot',\n",
       "  'aquarius and it matters a lot',\n",
       "  'sagittarius and it matters a lot',\n",
       "  'gemini and it matters a lot',\n",
       "  'taurus and it matters a lot',\n",
       "  'virgo and it matters a lot'],\n",
       " 'smokes': ['sometimes', 'no', nan, 'when drinking', 'yes', 'trying to quit']}"
      ]
     },
     "execution_count": 101,
     "metadata": {},
     "output_type": "execute_result"
    }
   ],
   "source": [
    "# Extracting the number of unique entries for each object-type column:\n",
    "unique_entries_dict_count = describe_output.loc['unique'].to_dict()\n",
    "\n",
    "# Extracting the actual unique labels for each of those columns:\n",
    "unique_entries_dict_labels = {\n",
    "    col: df[col].unique().tolist() for col in df.columns if col in \n",
    "    unique_entries_dict_count.keys()}"
   ]
  },
  {
   "cell_type": "code",
   "execution_count": 6,
   "metadata": {},
   "outputs": [
    {
     "data": {
      "text/plain": [
       "offspring      35561\n",
       "diet           24395\n",
       "religion       20226\n",
       "pets           19921\n",
       "essay8         19225\n",
       "drugs          14080\n",
       "essay6         13771\n",
       "essay9         12603\n",
       "essay7         12451\n",
       "essay3         11476\n",
       "sign           11056\n",
       "essay5         10850\n",
       "essay4         10537\n",
       "essay2          9638\n",
       "job             8198\n",
       "essay1          7572\n",
       "education       6628\n",
       "ethnicity       5680\n",
       "smokes          5512\n",
       "essay0          5488\n",
       "body_type       5296\n",
       "drinks          2985\n",
       "speaks            50\n",
       "height             3\n",
       "status             0\n",
       "location           0\n",
       "last_online        0\n",
       "income             0\n",
       "orientation        0\n",
       "sex                0\n",
       "age                0\n",
       "dtype: int64"
      ]
     },
     "execution_count": 6,
     "metadata": {},
     "output_type": "execute_result"
    }
   ],
   "source": [
    "# Check which columns have the least records:\n",
    "df.isna().sum().sort_values(ascending=False)"
   ]
  },
  {
   "cell_type": "markdown",
   "metadata": {},
   "source": [
    "## Analyzing Essay Questions"
   ]
  },
  {
   "cell_type": "code",
   "execution_count": 7,
   "metadata": {},
   "outputs": [],
   "source": [
    "# Creating a dataframe with just the essays:\n",
    "essays_df = df.loc[:, [\"essay0\", \"essay1\", \"essay2\", \"essay3\", \"essay4\", \n",
    "                   \"essay5\", \"essay6\", \"essay7\", \"essay8\", \"essay9\"]]"
   ]
  },
  {
   "cell_type": "markdown",
   "metadata": {},
   "source": [
    "https://www.kaggle.com/datasets/andrewmvd/okcupid-profiles/discussion/183145\n",
    "\n",
    "Ok--so these are what each essay prompt corresponds to. In order:\n",
    "\n",
    "1. essay0- My self summary\n",
    "2. essay1- What I’m doing with my life\n",
    "3. essay2- I’m really good at\n",
    "4. essay3- The first thing people usually notice about me\n",
    "5. essay4- Favorite books, movies, show, music, and food\n",
    "6. essay5- The six things I could never do without\n",
    "7. essay6- I spend a lot of time thinking about\n",
    "8. essay7- On a typical Friday night I am\n",
    "9. essay8- The most private thing I am willing to admit\n",
    "10. essay9- You should message me if...\n",
    "\n",
    "I'm unsure about what *order* the essays come in, but they mostly follow the pattern that essay0 is the most popular, and the latter essays are less popular. Essay #9 is the least popular, but overall--most people filled out the essay questions!"
   ]
  },
  {
   "cell_type": "code",
   "execution_count": 8,
   "metadata": {},
   "outputs": [
    {
     "data": {
      "text/plain": [
       "essay0     5488\n",
       "essay1     7572\n",
       "essay2     9638\n",
       "essay4    10537\n",
       "essay5    10850\n",
       "essay3    11476\n",
       "essay7    12451\n",
       "essay9    12603\n",
       "essay6    13771\n",
       "essay8    19225\n",
       "dtype: int64"
      ]
     },
     "execution_count": 8,
     "metadata": {},
     "output_type": "execute_result"
    }
   ],
   "source": [
    "# Check which essays are the most to least popular:\n",
    "essays_df.isna().sum().sort_values(ascending=True)"
   ]
  },
  {
   "cell_type": "code",
   "execution_count": 9,
   "metadata": {},
   "outputs": [
    {
     "name": "stdout",
     "output_type": "stream",
     "text": [
      "essay0    116.222226\n",
      "essay4     97.270335\n",
      "essay1     46.203192\n",
      "essay9     34.770969\n",
      "essay2     26.689214\n",
      "essay6     25.787071\n",
      "essay7     21.035456\n",
      "essay5     21.028801\n",
      "essay8     20.176052\n",
      "essay3     16.643883\n",
      "dtype: float64\n"
     ]
    }
   ],
   "source": [
    "# Tokenize essays into words and count the number of words\n",
    "word_counts = essays_df.apply(lambda x: x.str.split().str.len())\n",
    "\n",
    "# Calculate the average number of words per essay\n",
    "average_words_per_essay = word_counts.mean()\n",
    "print(average_words_per_essay.sort_values(ascending=False))"
   ]
  },
  {
   "cell_type": "markdown",
   "metadata": {},
   "source": [
    "Essay #0 had significantly more words than the other essays, and is followed by essay #4, #1, and #9. Essay #8 continues to be on the \"low\" side of things. "
   ]
  },
  {
   "cell_type": "code",
   "execution_count": 10,
   "metadata": {},
   "outputs": [
    {
     "name": "stderr",
     "output_type": "stream",
     "text": [
      "[nltk_data] Downloading package stopwords to\n",
      "[nltk_data]     /Users/rohitkandala/nltk_data...\n",
      "[nltk_data]   Package stopwords is already up-to-date!\n"
     ]
    }
   ],
   "source": [
    "from collections import Counter\n",
    "from nltk.corpus import stopwords\n",
    "import nltk\n",
    "nltk.download('stopwords')\n",
    "\n",
    "def most_popular_words(df):\n",
    "    \"\"\"\n",
    "    Calculates the ten most popular words in each essay column of the DataFrame, excluding stop words\n",
    "    \"\"\"\n",
    "    top_ten_per_column = {}\n",
    "\n",
    "    # Load stop words\n",
    "    stop_words = set(stopwords.words('english'))\n",
    "\n",
    "    for column in df.columns:\n",
    "        word_freq = Counter()  # Counter to store word frequencies for each column\n",
    "\n",
    "        # Iterate over each response in the column\n",
    "        for response in df[column]:\n",
    "            if isinstance(response, str):  # Check if the entry is a string\n",
    "                # Tokenize the essay into words\n",
    "                words = response.lower().split()  # Convert to lowercase and split into words\n",
    "\n",
    "                # Update word frequency counts for the column, excluding stop words\n",
    "                word_freq.update([word for word in words if word not in stop_words])\n",
    "\n",
    "        # Extract top ten words for the column\n",
    "        top_ten_words = [word for word, freq in word_freq.most_common(10)]\n",
    "\n",
    "        # Add top ten words for the column to the dictionary\n",
    "        top_ten_per_column[column] = top_ten_words\n",
    "\n",
    "    return top_ten_per_column"
   ]
  },
  {
   "cell_type": "code",
   "execution_count": 11,
   "metadata": {},
   "outputs": [
    {
     "name": "stdout",
     "output_type": "stream",
     "text": [
      "Top 10 words in essay0: [\"i'm\", 'love', 'like', 'new', 'good', 'people', 'life', 'enjoy', 'time', 'also']\n",
      "Top 10 words in essay1: [\"i'm\", 'working', 'work', 'time', 'love', 'trying', 'like', 'new', 'life', 'also']\n",
      "Top 10 words in essay2: ['good', \"i'm\", 'making', 'people', 'things', 'really', '-', 'like', 'also', 'love']\n",
      "Top 10 words in essay3: [\"i'm\", 'people', 'smile', 'eyes', 'like', 'notice', 'really', 'look', 'hair', 'usually']\n",
      "Top 10 words in essay4: ['love', 'like', \"i'm\", '-', 'anything', 'favorite', 'music', 'music:', 'movies:', 'books:']\n",
      "Top 10 words in essay5: ['friends', 'family', '-', 'good', 'music', 'friends,', 'food', '1.', '2.', '3.']\n",
      "Top 10 words in essay6: [\"i'm\", 'next', 'think', 'life', 'people', 'things', 'like', 'time', 'want', 'going']\n",
      "Top 10 words in essay7: ['friends', 'home', 'watching', \"i'm\", 'going', 'friends,', 'dinner', 'friday', 'hanging', 'good']\n",
      "Top 10 words in essay8: [\"i'm\", 'like', 'really', 'know', 'love', 'get', 'private', 'think', \"i've\", 'one']\n",
      "Top 10 words in essay9: ['like', 'want', 'know', \"i'm\", 'good', 'looking', 'think', 'someone', 'get', '-']\n"
     ]
    }
   ],
   "source": [
    "top_words_per_column = most_popular_words(essays_df)\n",
    "\n",
    "for column, top_words in top_words_per_column.items():\n",
    "    print(f\"Top 10 words in {column}: {top_words}\")"
   ]
  },
  {
   "cell_type": "markdown",
   "metadata": {},
   "source": [
    "## Correlation Analyses"
   ]
  },
  {
   "cell_type": "markdown",
   "metadata": {},
   "source": [
    "### Understanding who's answering question #8:"
   ]
  },
  {
   "cell_type": "code",
   "execution_count": 75,
   "metadata": {},
   "outputs": [],
   "source": [
    "# Creating a Series that sees those who answered essay_8. 0 if no & 1 if yes:\n",
    "essay_8_boolean = essays_df['essay8'].notna().astype(int)"
   ]
  },
  {
   "cell_type": "code",
   "execution_count": 77,
   "metadata": {},
   "outputs": [],
   "source": [
    "# Creating a series of categories to compare correlations:\n",
    "non_essay_cols = [\n",
    "    col for col in df.columns if not col.startswith(\"essay\")]\n",
    "\n",
    "# List for continuous columnns:\n",
    "continuous_cols = [col for col in non_essay_cols if col in [\n",
    "    \"age\", \"height\", \"income\"]]\n",
    "\n",
    "# List for categorical colunns:\n",
    "categorical_cols = [col for col in non_essay_cols if col not in [\n",
    "    \"age\", \"height\", \"income\"]]"
   ]
  },
  {
   "cell_type": "code",
   "execution_count": 78,
   "metadata": {},
   "outputs": [],
   "source": [
    "# Converting lists into dataframes:\n",
    "non_essay_df = df[non_essay_cols]\n",
    "continuous_df = df[continuous_cols]\n",
    "categorical_df = df[categorical_cols]"
   ]
  },
  {
   "cell_type": "code",
   "execution_count": 79,
   "metadata": {},
   "outputs": [
    {
     "name": "stdout",
     "output_type": "stream",
     "text": [
      "[0.0363730599771233, 0.016010794179408885, 0.03320305599203689]\n"
     ]
    }
   ],
   "source": [
    "# Print correlations between respondents who answered essay_8 and continuous\n",
    "# variables:\n",
    "\n",
    "correlation_list_continuous = []\n",
    "\n",
    "for con_var in continuous_df.columns:\n",
    "    correlation_list_continuous.append(\n",
    "        essay_8_boolean.corr(continuous_df[con_var], \n",
    "                             method='pearson'))\n",
    "\n",
    "# Printing list:\n",
    "print(correlation_list_continuous)"
   ]
  },
  {
   "cell_type": "markdown",
   "metadata": {},
   "source": [
    "Respondents who answered essay_8 have a weak & positive linear correlation with age, height, and income. Generally speaking, there's a very small increase in those who answered essay_8, and how they tended to be older, taller, and richer. "
   ]
  },
  {
   "cell_type": "code",
   "execution_count": 80,
   "metadata": {},
   "outputs": [],
   "source": [
    "from scipy.stats import chi2_contingency\n",
    "\n",
    "# Function to compare categorical variables:\n",
    "def cramers_v(x, y):\n",
    "    \"\"\"\n",
    "    Inputs:\n",
    "        X: Categorical/Boolean variable\n",
    "        Y: Categorical/Boolean variable\n",
    "    \n",
    "    Outputs:\n",
    "        Returns: A correlation between correlation matrix. \n",
    "    \"\"\"\n",
    "    confusion_matrix = pd.crosstab(x, y)\n",
    "    chi2 = chi2_contingency(confusion_matrix)[0]\n",
    "    n = confusion_matrix.sum().sum()\n",
    "    phi2 = chi2 / n\n",
    "    r, k = confusion_matrix.shape\n",
    "    phi2_corr = max(0, phi2 - ((k-1)*(r-1))/(n-1))\n",
    "    r_corr = r - ((r-1)**2)/(n-1)\n",
    "    k_corr = k - ((k-1)**2)/(n-1)\n",
    "\n",
    "    # Return statement:\n",
    "    return np.sqrt(phi2_corr / min((k_corr-1), (r_corr-1)))"
   ]
  },
  {
   "cell_type": "code",
   "execution_count": 86,
   "metadata": {},
   "outputs": [
    {
     "name": "stdout",
     "output_type": "stream",
     "text": [
      "status: 0.05582845210945361\n",
      "sex: 0.014148846518576076\n",
      "orientation: 0.05478206517573968\n",
      "body_type: 0.05256527271314355\n",
      "diet: 0.09622184954802572\n",
      "drinks: 0.03307676306348275\n",
      "drugs: 0.0713473462986865\n",
      "education: 0.06989546778653084\n",
      "ethnicity: 0.07665725960355099\n",
      "job: 0.05399734498456333\n",
      "last_online: 0.20515683657947864\n",
      "location: 0.0604623751724673\n",
      "offspring: 0.09213969232277183\n",
      "pets: 0.09445406443365598\n",
      "religion: 0.15789225839975354\n",
      "sign: 0.1317933255254718\n",
      "smokes: 0.010300909088783335\n",
      "speaks: 0.1133075939877583\n"
     ]
    }
   ],
   "source": [
    "# Print correlations between respondents who answered essay_8 and object data\n",
    "# types:\n",
    "\n",
    "correlation_list_categorical = []\n",
    "\n",
    "for con_var in categorical_df.columns:\n",
    "    correlation_score = cramers_v(essay_8_boolean, categorical_df[con_var])\n",
    "    correlation_list_categorical.append((con_var, correlation_score))\n",
    "    \n",
    "# Printing list:\n",
    "for column, score in correlation_list_categorical:\n",
    "    print(f\"{column}: {score}\")"
   ]
  },
  {
   "cell_type": "markdown",
   "metadata": {},
   "source": [
    "Respondents who answered essay_8 are not generally that different from those who didn't answer the question. The only strong indication is the variable \"last_online\". There's a stronger, but ultimately, still weak correlation between those who are more online & those who are willing to answer essay_8. "
   ]
  },
  {
   "cell_type": "markdown",
   "metadata": {},
   "source": [
    "### Understanding relationship between categorical variables:"
   ]
  },
  {
   "cell_type": "code",
   "execution_count": 103,
   "metadata": {},
   "outputs": [
    {
     "name": "stdout",
     "output_type": "stream",
     "text": [
      "{('status', 'sex'): 0.036045125360461706, ('status', 'orientation'): 0.14475945199774573, ('status', 'body_type'): 0.044493153090623065, ('status', 'diet'): 0.04023383175295507, ('status', 'drinks'): 0.025904264283140604, ('status', 'drugs'): 0.09165969993836941, ('status', 'education'): 0.04664245707230484, ('status', 'job'): 0.04679201733515939, ('status', 'offspring'): 0.10628538148236939, ('status', 'pets'): 0.062415635503658, ('status', 'religion'): 0.07420236463986112, ('status', 'sign'): 0.030082002231853387, ('status', 'smokes'): 0.009335259359367349, ('sex', 'orientation'): 0.1578066555060698, ('sex', 'body_type'): 0.4049798241743449, ('sex', 'diet'): 0.15229587653054405, ('sex', 'drinks'): 0.034075037766481124, ('sex', 'drugs'): 0.05671808128881579, ('sex', 'education'): 0.11815349140020451, ('sex', 'job'): 0.30273691905085787, ('sex', 'offspring'): 0.11937121225432433, ('sex', 'pets'): 0.18722687104948157, ('sex', 'religion'): 0.16507091245579172, ('sex', 'sign'): 0.1394672003094571, ('sex', 'smokes'): 0.04633461782205871, ('orientation', 'body_type'): 0.10780608787118705, ('orientation', 'diet'): 0.09123608624960253, ('orientation', 'drinks'): 0.038377883782047026, ('orientation', 'drugs'): 0.11245509812098298, ('orientation', 'education'): 0.07516212190539316, ('orientation', 'job'): 0.09658744573819648, ('orientation', 'offspring'): 0.18137712950847906, ('orientation', 'pets'): 0.07625630248013889, ('orientation', 'religion'): 0.10379703522965993, ('orientation', 'sign'): 0.06465643875585995, ('orientation', 'smokes'): 0.061550784710506595, ('body_type', 'diet'): 0.04761951494261021, ('body_type', 'drinks'): 0.08698743037763132, ('body_type', 'drugs'): 0.08682616569955816, ('body_type', 'education'): 0.07514734417078588, ('body_type', 'job'): 0.07422891995322933, ('body_type', 'offspring'): 0.05235458140748312, ('body_type', 'pets'): 0.05713725085273496, ('body_type', 'religion'): 0.05889858636045408, ('body_type', 'sign'): 0.043906018740614845, ('body_type', 'smokes'): 0.07365879889007736, ('diet', 'drinks'): 0.09622410546844605, ('diet', 'drugs'): 0.10750913153248577, ('diet', 'education'): 0.05121719503172067, ('diet', 'job'): 0.04316711866781617, ('diet', 'offspring'): 0.05441750542482023, ('diet', 'pets'): 0.05074555119273675, ('diet', 'religion'): 0.1653719043368937, ('diet', 'sign'): 0.050291052634690955, ('diet', 'smokes'): 0.03659535164409057, ('drinks', 'drugs'): 0.20821451962695164, ('drinks', 'education'): 0.079311365083463, ('drinks', 'job'): 0.06423726908451581, ('drinks', 'offspring'): 0.08842923195858167, ('drinks', 'pets'): 0.057890001620483425, ('drinks', 'religion'): 0.10829893089619717, ('drinks', 'sign'): 0.04736860794497369, ('drinks', 'smokes'): 0.11603913767813664, ('drugs', 'education'): 0.15361907248172357, ('drugs', 'job'): 0.133185027921886, ('drugs', 'offspring'): 0.14837925259757298, ('drugs', 'pets'): 0.09816842491078365, ('drugs', 'religion'): 0.198285200524893, ('drugs', 'sign'): 0.08319100358646472, ('drugs', 'smokes'): 0.26472248070148835, ('education', 'job'): 0.22487675354213288, ('education', 'offspring'): 0.06991691046084049, ('education', 'pets'): 0.05613626214266587, ('education', 'religion'): 0.058024417025120165, ('education', 'sign'): 0.03170452367386, ('education', 'smokes'): 0.14624302528549568, ('job', 'offspring'): 0.06963797097154154, ('job', 'pets'): 0.056697456552147876, ('job', 'religion'): 0.07160636196879497, ('job', 'sign'): 0.036385049462527165, ('job', 'smokes'): 0.09687227167888031, ('offspring', 'pets'): 0.07521374554802361, ('offspring', 'religion'): 0.1017559736632901, ('offspring', 'sign'): 0.05189889677610849, ('offspring', 'smokes'): 0.06510937186076739, ('pets', 'religion'): 0.08682436360044944, ('pets', 'sign'): 0.047760677162050465, ('pets', 'smokes'): 0.05308965210183393, ('religion', 'sign'): 0.07802640432250008, ('religion', 'smokes'): 0.07208589625708073, ('sign', 'smokes'): 0.046797231935528316}\n"
     ]
    }
   ],
   "source": [
    "import itertools\n",
    "\n",
    "variable_combinations = itertools.combinations(\n",
    "    unique_entries_dict_count.keys(), 2)\n",
    "\n",
    "cramers_v_results = {}\n",
    "\n",
    "for var1, var2 in variable_combinations:\n",
    "    correlation = cramers_v(df[var1], df[var2])\n",
    "    cramers_v_results[(var1, var2)] = correlation\n",
    "\n",
    "print(cramers_v_results)"
   ]
  },
  {
   "cell_type": "code",
   "execution_count": 105,
   "metadata": {},
   "outputs": [],
   "source": [
    "# Prepping the cramer_v_results to be visualized:\n",
    "\n",
    "# Extract unique variables involved in the correlations and convert \n",
    "# them to a list to preserve order:\n",
    "variables = sorted(list(set([\n",
    "    var for pair in cramers_v_results.keys() for var in pair])))\n",
    "\n",
    "# Create an empty DataFrame for storing the results in matrix form, using the \n",
    "# sorted list of variables for index and columns:\n",
    "cramers_v_matrix = pd.DataFrame(index=variables, columns=variables, data=np.nan)\n",
    "\n",
    "# Populate the DataFrame with your Cramer's V results:\n",
    "for (var1, var2), correlation in cramers_v_results.items():\n",
    "    cramers_v_matrix.loc[var1, var2] = correlation\n",
    "    cramers_v_matrix.loc[var2, var1] = correlation\n",
    "\n",
    "# Fill the diagonal with 1s for self-correlation\n",
    "np.fill_diagonal(cramers_v_matrix.values, 1)"
   ]
  },
  {
   "cell_type": "code",
   "execution_count": 106,
   "metadata": {},
   "outputs": [
    {
     "data": {
      "image/png": "[encoded data removed]",
      "text/plain": [
       "<Figure size 1200x1000 with 2 Axes>"
      ]
     },
     "metadata": {},
     "output_type": "display_data"
    }
   ],
   "source": [
    "import seaborn as sns\n",
    "import matplotlib.pyplot as plt\n",
    "\n",
    "# Set up the matplotlib figure\n",
    "plt.figure(figsize=(12, 10))\n",
    "\n",
    "# Draw the heatmap\n",
    "sns.heatmap(cramers_v_matrix, annot=True, fmt=\".2f\", cmap='coolwarm', \n",
    "            square=True, linewidths=.5, cbar_kws={\"shrink\": .5})\n",
    "\n",
    "# Add title\n",
    "plt.title('Cramer\\'s V Correlation Matrix')\n",
    "\n",
    "plt.show()"
   ]
  }
 ],
 "metadata": {
  "kernelspec": {
   "display_name": "standard_enviroment",
   "language": "python",
   "name": "python3"
  },
  "language_info": {
   "codemirror_mode": {
    "name": "ipython",
    "version": 3
   },
   "file_extension": ".py",
   "mimetype": "text/x-python",
   "name": "python",
   "nbconvert_exporter": "python",
   "pygments_lexer": "ipython3",
   "version": "3.10.13"
  }
 },
 "nbformat": 4,
 "nbformat_minor": 2
}
