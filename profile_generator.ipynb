{
 "cells": [
  {
   "cell_type": "markdown",
   "id": "0b54e476",
   "metadata": {},
   "source": [
    "This file details our efforts to compare a variety of different prompts and parameters in the use of a pretrained model to conduct few shot learning and generate a fake profile that sounds indistinguishable from other top matches.\n",
    "\n",
    "Different avenues explored include using:\n",
    "    - Full essays \n",
    "        - Example prompt:\n",
    "            This is the input essay: \n",
    "            This is a good match:\n",
    "            This is a good match:\n",
    "            Write a new good match:\n",
    " \n",
    "    - First x number of characters of an essay\n",
    "\n",
    "    - Experiment with different parameters of the generate function\n",
    "    \n",
    "    - different/larger versions of model (distilgpt2, gpt2)\n",
    "\n",
    "\n",
    "\n",
    "This file loads in the GPT2 model from the HuggingFace library, and uses most of an individuals essays, calculates their top matches, and constructs a prompt for a few shot encoder to produce a fake profile in the same style/tone that should also be a good match for them. It then implements an evaluation methodology by comparing where the fake profile would fall, relative to the rest of the input person's matches. "
   ]
  },
  {
   "cell_type": "code",
   "execution_count": 1,
   "id": "d15d3666",
   "metadata": {},
   "outputs": [
    {
     "name": "stdout",
     "output_type": "stream",
     "text": [
      "Requirement already satisfied: sentence_transformers in /Users/amaribauer/anaconda3/lib/python3.11/site-packages (2.5.1)\n",
      "Requirement already satisfied: transformers<5.0.0,>=4.32.0 in /Users/amaribauer/anaconda3/lib/python3.11/site-packages (from sentence_transformers) (4.37.2)\n",
      "Requirement already satisfied: tqdm in /Users/amaribauer/anaconda3/lib/python3.11/site-packages (from sentence_transformers) (4.65.0)\n",
      "Requirement already satisfied: torch>=1.11.0 in /Users/amaribauer/anaconda3/lib/python3.11/site-packages (from sentence_transformers) (2.0.0)\n",
      "Requirement already satisfied: numpy in /Users/amaribauer/anaconda3/lib/python3.11/site-packages (from sentence_transformers) (1.24.3)\n",
      "Requirement already satisfied: scikit-learn in /Users/amaribauer/anaconda3/lib/python3.11/site-packages (from sentence_transformers) (1.3.0)\n",
      "Requirement already satisfied: scipy in /Users/amaribauer/anaconda3/lib/python3.11/site-packages (from sentence_transformers) (1.11.1)\n",
      "Requirement already satisfied: huggingface-hub>=0.15.1 in /Users/amaribauer/anaconda3/lib/python3.11/site-packages (from sentence_transformers) (0.20.3)\n",
      "Requirement already satisfied: Pillow in /Users/amaribauer/anaconda3/lib/python3.11/site-packages (from sentence_transformers) (9.4.0)\n",
      "Requirement already satisfied: filelock in /Users/amaribauer/anaconda3/lib/python3.11/site-packages (from huggingface-hub>=0.15.1->sentence_transformers) (3.9.0)\n",
      "Requirement already satisfied: fsspec>=2023.5.0 in /Users/amaribauer/anaconda3/lib/python3.11/site-packages (from huggingface-hub>=0.15.1->sentence_transformers) (2023.10.0)\n",
      "Requirement already satisfied: requests in /Users/amaribauer/anaconda3/lib/python3.11/site-packages (from huggingface-hub>=0.15.1->sentence_transformers) (2.31.0)\n",
      "Requirement already satisfied: pyyaml>=5.1 in /Users/amaribauer/anaconda3/lib/python3.11/site-packages (from huggingface-hub>=0.15.1->sentence_transformers) (6.0)\n",
      "Requirement already satisfied: typing-extensions>=3.7.4.3 in /Users/amaribauer/anaconda3/lib/python3.11/site-packages (from huggingface-hub>=0.15.1->sentence_transformers) (4.7.1)\n",
      "Requirement already satisfied: packaging>=20.9 in /Users/amaribauer/anaconda3/lib/python3.11/site-packages (from huggingface-hub>=0.15.1->sentence_transformers) (23.1)\n",
      "Requirement already satisfied: sympy in /Users/amaribauer/anaconda3/lib/python3.11/site-packages (from torch>=1.11.0->sentence_transformers) (1.11.1)\n",
      "Requirement already satisfied: networkx in /Users/amaribauer/anaconda3/lib/python3.11/site-packages (from torch>=1.11.0->sentence_transformers) (3.1)\n",
      "Requirement already satisfied: jinja2 in /Users/amaribauer/anaconda3/lib/python3.11/site-packages (from torch>=1.11.0->sentence_transformers) (3.1.2)\n",
      "Requirement already satisfied: regex!=2019.12.17 in /Users/amaribauer/anaconda3/lib/python3.11/site-packages (from transformers<5.0.0,>=4.32.0->sentence_transformers) (2022.7.9)\n",
      "Requirement already satisfied: tokenizers<0.19,>=0.14 in /Users/amaribauer/anaconda3/lib/python3.11/site-packages (from transformers<5.0.0,>=4.32.0->sentence_transformers) (0.15.2)\n",
      "Requirement already satisfied: safetensors>=0.4.1 in /Users/amaribauer/anaconda3/lib/python3.11/site-packages (from transformers<5.0.0,>=4.32.0->sentence_transformers) (0.4.2)\n",
      "Requirement already satisfied: joblib>=1.1.1 in /Users/amaribauer/anaconda3/lib/python3.11/site-packages (from scikit-learn->sentence_transformers) (1.2.0)\n",
      "Requirement already satisfied: threadpoolctl>=2.0.0 in /Users/amaribauer/anaconda3/lib/python3.11/site-packages (from scikit-learn->sentence_transformers) (2.2.0)\n",
      "Requirement already satisfied: MarkupSafe>=2.0 in /Users/amaribauer/anaconda3/lib/python3.11/site-packages (from jinja2->torch>=1.11.0->sentence_transformers) (2.1.1)\n",
      "Requirement already satisfied: charset-normalizer<4,>=2 in /Users/amaribauer/anaconda3/lib/python3.11/site-packages (from requests->huggingface-hub>=0.15.1->sentence_transformers) (2.0.4)\n",
      "Requirement already satisfied: idna<4,>=2.5 in /Users/amaribauer/anaconda3/lib/python3.11/site-packages (from requests->huggingface-hub>=0.15.1->sentence_transformers) (3.4)\n",
      "Requirement already satisfied: urllib3<3,>=1.21.1 in /Users/amaribauer/anaconda3/lib/python3.11/site-packages (from requests->huggingface-hub>=0.15.1->sentence_transformers) (1.26.16)\n",
      "Requirement already satisfied: certifi>=2017.4.17 in /Users/amaribauer/anaconda3/lib/python3.11/site-packages (from requests->huggingface-hub>=0.15.1->sentence_transformers) (2023.7.22)\n",
      "Requirement already satisfied: mpmath>=0.19 in /Users/amaribauer/anaconda3/lib/python3.11/site-packages (from sympy->torch>=1.11.0->sentence_transformers) (1.3.0)\n"
     ]
    },
    {
     "name": "stderr",
     "output_type": "stream",
     "text": [
      "2024-03-04 17:07:10.188087: I tensorflow/core/platform/cpu_feature_guard.cc:182] This TensorFlow binary is optimized to use available CPU instructions in performance-critical operations.\n",
      "To enable the following instructions: AVX2 AVX512F AVX512_VNNI FMA, in other operations, rebuild TensorFlow with the appropriate compiler flags.\n"
     ]
    },
    {
     "name": "stdout",
     "output_type": "stream",
     "text": [
      "Collecting ast\n",
      "  Using cached AST-0.0.2.tar.gz (19 kB)\n",
      "  Preparing metadata (setup.py) ... \u001b[?25lerror\n",
      "  \u001b[1;31merror\u001b[0m: \u001b[1msubprocess-exited-with-error\u001b[0m\n",
      "  \n",
      "  \u001b[31m×\u001b[0m \u001b[32mpython setup.py egg_info\u001b[0m did not run successfully.\n",
      "  \u001b[31m│\u001b[0m exit code: \u001b[1;36m1\u001b[0m\n",
      "  \u001b[31m╰─>\u001b[0m \u001b[31m[8 lines of output]\u001b[0m\n",
      "  \u001b[31m   \u001b[0m Traceback (most recent call last):\n",
      "  \u001b[31m   \u001b[0m   File \"<string>\", line 2, in <module>\n",
      "  \u001b[31m   \u001b[0m   File \"<pip-setuptools-caller>\", line 34, in <module>\n",
      "  \u001b[31m   \u001b[0m   File \"/private/var/folders/0c/ytgqby892k1dcqcnn5gw20f00000gn/T/pip-install-tarf7l8v/ast_9383d1d257ce43a0b4e88d144af3404d/setup.py\", line 6, in <module>\n",
      "  \u001b[31m   \u001b[0m     README = codecs.open(os.path.join(here, 'AST/README'), encoding='utf8').read()\n",
      "  \u001b[31m   \u001b[0m              ^^^^^^^^^^^^^^^^^^^^^^^^^^^^^^^^^^^^^^^^^^^^^^^^^^^^^^^^^^^^^^\n",
      "  \u001b[31m   \u001b[0m   File \"<frozen codecs>\", line 906, in open\n",
      "  \u001b[31m   \u001b[0m FileNotFoundError: [Errno 2] No such file or directory: '/private/var/folders/0c/ytgqby892k1dcqcnn5gw20f00000gn/T/pip-install-tarf7l8v/ast_9383d1d257ce43a0b4e88d144af3404d/AST/README'\n",
      "  \u001b[31m   \u001b[0m \u001b[31m[end of output]\u001b[0m\n",
      "  \n",
      "  \u001b[1;35mnote\u001b[0m: This error originates from a subprocess, and is likely not a problem with pip.\n",
      "\u001b[1;31merror\u001b[0m: \u001b[1mmetadata-generation-failed\u001b[0m\n",
      "\n",
      "\u001b[31m×\u001b[0m Encountered error while generating package metadata.\n",
      "\u001b[31m╰─>\u001b[0m See above for output.\n",
      "\n",
      "\u001b[1;35mnote\u001b[0m: This is an issue with the package mentioned above, not pip.\n",
      "\u001b[1;36mhint\u001b[0m: See above for details.\n",
      "\u001b[?25h"
     ]
    }
   ],
   "source": [
    "!pip install sentence_transformers\n",
    "from transformers import pipeline\n",
    "from sentence_transformers import SentenceTransformer\n",
    "import pandas as pd\n",
    "from scipy.spatial.distance import cosine\n",
    "import numpy as np\n",
    "!pip install ast\n",
    "from ast import literal_eval"
   ]
  },
  {
   "cell_type": "code",
   "execution_count": 2,
   "id": "d53bc6c6",
   "metadata": {},
   "outputs": [],
   "source": [
    "embedding_series = pd.read_csv('./embedding_series.csv').set_index('Unnamed: 0')\n",
    "df_all = pd.read_csv('./okcupid_profiles.csv')\n",
    "df_all = df_all.loc[embedding_series.index,:] \n",
    "matches = pd.read_csv('./okcupid_matches.csv').set_index('Unnamed: 0')"
   ]
  },
  {
   "cell_type": "code",
   "execution_count": 3,
   "id": "d87a080b",
   "metadata": {},
   "outputs": [
    {
     "name": "stderr",
     "output_type": "stream",
     "text": [
      "/Users/amaribauer/anaconda3/lib/python3.11/site-packages/torch/_utils.py:776: UserWarning: TypedStorage is deprecated. It will be removed in the future and UntypedStorage will be the only storage class. This should only matter to you if you are using storages directly.  To access UntypedStorage directly, use tensor.untyped_storage() instead of tensor.storage()\n",
      "  return self.fget.__get__(instance, owner)()\n"
     ]
    }
   ],
   "source": [
    "model = SentenceTransformer('all-MiniLM-L6-v2')"
   ]
  },
  {
   "cell_type": "code",
   "execution_count": 21,
   "id": "cb6a55b2",
   "metadata": {},
   "outputs": [],
   "source": [
    "def rank_new_input(input_str, df_all, model, embedding_series, eval_fake = False, pref_gender=False, pref_age_lower=False, pref_age_higher=False, min_similarity_score = 0.5):\n",
    "    df_possible = df_all.copy()\n",
    "    if pref_gender:\n",
    "        df_possible = df_possible.loc[df_possible.loc[:,'sex'] == pref_gender, :]\n",
    "    if pref_age_higher:\n",
    "        df_possible = df_possible[df_possible.loc[:, \"age\"] <= pref_age_higher]\n",
    "    if pref_age_lower:\n",
    "        df_possible = df_possible[df_possible.loc[:, \"age\"] >= pref_age_lower]\n",
    "    user_embeddings = model.encode(input_str)\n",
    "    if eval_fake:\n",
    "        #ADD FAKE PROFILE STRING TO EMBEDDING SERIES and df_possible so that it will rank accordingly\n",
    "        embedding_series.loc[99999, 'embedding'] = str(model.encode(eval_fake).tolist())\n",
    "        fake_profile_row = pd.DataFrame([np.nan] * len(df_possible.columns)).T\n",
    "        fake_profile_row.index = [99999]\n",
    "        df_possible = pd.concat([df_possible, fake_profile_row]) \n",
    "\n",
    "    other_embeddings = [literal_eval(embedding_series.loc[i,'embedding']) for i in df_possible.index]\n",
    "    # Compute the cosine similarity between the user's weighted embedding vector and all possible matches\n",
    "    cosine_similarities = compute_cosine_similarity(user_embeddings, other_embeddings)\n",
    "    # Recover index to match back to original dataframe\n",
    "    similarity_scores = [(df_possible.index[index], score) for index, score in enumerate(cosine_similarities) if score >= min_similarity_score and score != 1]\n",
    "    # Sort by similarity\n",
    "    ranked_similarity = sorted(similarity_scores, key = lambda x: x[1], reverse = True)\n",
    "    return ranked_similarity\n",
    "\n",
    "def compute_cosine_similarity(target_vector, vectors):\n",
    "    similarities = []\n",
    "    for vector in vectors:\n",
    "        similarity = 1 - cosine(target_vector, vector)  # 1 - cosine distance to get cosine similarity\n",
    "        similarities.append(similarity)\n",
    "    return similarities"
   ]
  },
  {
   "cell_type": "code",
   "execution_count": 10,
   "id": "d355a5e1",
   "metadata": {},
   "outputs": [],
   "source": [
    "def construct_prompt(input_string, matches, num_char = False):\n",
    "    slice_len = min(2, len(matches))\n",
    "    top_matches_slice = matches[:slice_len]\n",
    "    essays_to_use = [\"essay0\", \"essay1\", \"essay2\", \"essay3\", \"essay4\", \n",
    "                   \"essay5\", \"essay6\", \"essay7\", \"essay8\"]\n",
    "    prompt = 'Write a dating profile that would be a good match for the input person ' + \"Input: \" + input_string\n",
    "    for i, val in top_matches_slice:\n",
    "        essays_subset = df_all.loc[i,essays_to_use]\n",
    "        output = essays_subset.str.cat()\n",
    "        if num_char:\n",
    "            output = output[:num_char]\n",
    "        prompt = prompt  + \" This is a good match: \" + output\n",
    "    return prompt + f\"Input: {input_string}\" + \" Here is a new good match: \"\n",
    "    "
   ]
  },
  {
   "cell_type": "code",
   "execution_count": 7,
   "id": "e14f73f5",
   "metadata": {},
   "outputs": [
    {
     "data": {
      "text/plain": [
       "'Write a dating profile that would be a good match for the input person Input: Hey there! I\\'m Jimmy, but you can call me Jim. \\nI\\'m a curious soul with a zest for life and a passion for adventure. By day, I\\'m a data scientist, \\nbut by night, I\\'m a dreamer exploring the wonders of the world, both near and far. This is a good match: ah, what can i say... i guess i am a curious person. i like learning and exploring new technologies, views, things and people. a current interest of mine is the culinary world in the east bay \"why?\\' b This is a good match: by answering a host of questions, i am curious to see the type of person i am supposedly \\'compatible\\' with on this website....will it be similar to my encounters in real life??!  i am unconventional, Input: Hey there! I\\'m Jimmy, but you can call me Jim. \\nI\\'m a curious soul with a zest for life and a passion for adventure. By day, I\\'m a data scientist, \\nbut by night, I\\'m a dreamer exploring the wonders of the world, both near and far. Here is a new good match: '"
      ]
     },
     "execution_count": 7,
     "metadata": {},
     "output_type": "execute_result"
    }
   ],
   "source": [
    "new_input_matches = rank_new_input(input_str, False, 'f', 30,40, 0.2)\n",
    "#returns list of tuples\n",
    "new_input_matches #These are the top matches in the OKCupid dataframe for the new person. \n",
    "#We want our model to write a profile that ends up high here.\n",
    "#TESTING OUT WITH AN ESSAY INPUT\n",
    "input_str = \"\"\"Hey there! I'm Jimmy, but you can call me Jim. \n",
    "I'm a curious soul with a zest for life and a passion for adventure. By day, I'm a data scientist, \n",
    "but by night, I'm a dreamer exploring the wonders of the world, both near and far.\"\"\"\n",
    "\n",
    "prompt = construct_prompt(input_str, new_input_matches, 200) \n",
    "prompt_full = construct_prompt(input_str, new_input_matches) \n",
    "prompt"
   ]
  },
  {
   "cell_type": "code",
   "execution_count": null,
   "id": "0387cc05",
   "metadata": {},
   "outputs": [],
   "source": []
  },
  {
   "cell_type": "code",
   "execution_count": 9,
   "id": "13295e7b",
   "metadata": {},
   "outputs": [
    {
     "name": "stderr",
     "output_type": "stream",
     "text": [
      "Setting `pad_token_id` to `eos_token_id`:50256 for open-end generation.\n"
     ]
    }
   ],
   "source": [
    "generator = pipeline('text-generation', model='gpt2')\n",
    "all_returned = generator(prompt, do_sample=True, temperature = 0.9, truncation = True,\n",
    "                         min_length=200, max_length = 1000, num_return_sequences=1)\n"
   ]
  },
  {
   "cell_type": "code",
   "execution_count": 11,
   "id": "8dea40ba",
   "metadata": {},
   "outputs": [
    {
     "name": "stderr",
     "output_type": "stream",
     "text": [
      "Setting `pad_token_id` to `eos_token_id`:50256 for open-end generation.\n"
     ]
    }
   ],
   "source": [
    "all_returned2 = generator(prompt_full, do_sample=True, temperature = 0.9, truncation = True,\n",
    "                         min_length=200, max_length = 1000, num_return_sequences=1)\n"
   ]
  },
  {
   "cell_type": "code",
   "execution_count": 23,
   "id": "843990d7",
   "metadata": {},
   "outputs": [
    {
     "name": "stdout",
     "output_type": "stream",
     "text": [
      "[{'generated_text': 'Write a dating profile that would be a good match for the input person Input: Hey there! I\\'m Jimmy, but you can call me Jim. \\nI\\'m a curious soul with a zest for life and a passion for adventure. By day, I\\'m a data scientist, \\nbut by night, I\\'m a dreamer exploring the wonders of the world, both near and far. This is a good match: down to earth, mellow while being witty and sarcastic. i can have just as much fun staying in and cooking a great meal as going out. i like good wine, anything to do with art and design, non judgmenta This is a good match: i have been called a marshmallow one that likes to be made all warm and gewie, a big teddy bear, amongst other things....haha. im a total sweetheart and would like to fall in love again someday.enjoyiInput: Hey there! I\\'m Jimmy, but you can call me Jim. \\nI\\'m a curious soul with a zest for life and a passion for adventure. By day, I\\'m a data scientist, \\nbut by night, I\\'m a dreamer exploring the wonders of the world, both near and far. Here is a new good match: \\xa0I like to eat chocolate every day; not a chocolate cake for the poor and the hungry It looks like a good match: it\\'s one of the best things I\\'ve ever tasted from the folks at Jim\\'s. \\nI love to cook with a hot chocolate bar, my favorite place in town to do so, and there\\'s a lot of people that like to make chocolate cake for dessert in the evenings. \\nI\\'ve never been to any other bar or restaurant I would feel the need to get out and ask for a cookie...and so do many of my friends. \\n\"You\\'re so sweet. Look out my window.\" -Iggy Pop\\nHere is a new good match: \\xa0Just as cute is the sweet looking little one, I guess it\\'s something I can\\'t quite remember. I\\'ve had a lot of bad luck lately, but you get the picture. \\nIf you want to make your own, the only thing better than a few of the top dishes in the bar is to be able to sample a batch of the delicious ingredients and make the whole menu (and your party) super special. I did not start with it, but when I first started making my creations, I began making it again as early as January. \\nI love food and all things good. As I have been getting into things that matter and making things, I\\'ve started making my own, and trying new things in my life to see if there are things that will make me happy, and to see if there are things that amaze me.\\nI am very grateful to have been able to start such a creative life, as long as my goals are met and my team is working hard to create and perfect these things. I hope to meet more people in the future.\\nFor now, I think I am not a bad person or a bad person\\'s person, but I have become a really great person as I move forward, and I am hoping to one day get back to being a good person once again. What\\'s your favorite part of being a young person? \\nI like to eat with hot chocolate and to eat with a cold chocolate bar. I know that most of us make it our own...and I like that we are all about making things out of the same recipe. I love the idea of changing the way we make things out of ice cream or ice cream sandwiches or ice cream sandwiches with hot chocolate, and not giving up on making things that are better than what we have right now, right now. I love the idea of making things that are in the right spot, in the right place, and for that I thank Jim. He\\'s a really good friend who will give me everything I need to make things better, and at the same time I am inspired by him and wish him the best of luck in making all the good things. I\\'m always looking forward to hearing what you think. \\nSo if you go to Jim\\'s in New York and have a great time, if you have anything to say, don\\'t be shy. If you can help someone with anything they want to do, be it blogging, or anything else, be sure to follow them there on Facebook and Twitter. Check out their Instagram for an awesome, wide reach site to share your stories. If you want more inspiration, you can follow Jim\\'s on Twitter. '}]\n"
     ]
    }
   ],
   "source": [
    "print(all_returned)\n"
   ]
  },
  {
   "cell_type": "code",
   "execution_count": 13,
   "id": "a36aa99c",
   "metadata": {},
   "outputs": [
    {
     "name": "stdout",
     "output_type": "stream",
     "text": [
      "[{'generated_text': \"Write a dating profile that would be a good match for the input person Input: Hey there! I'm Jimmy, but you can call me Jim. \\nI'm a curious soul with a zest for life and a passion for adventure. By day, I'm a data scientist, \\nbut by night, I'm a dreamer exploring the wonders of the world, both near and far. This is a good match: down to earth, mellow while being witty and sarcastic. i can have just as much fun staying in and cooking a great meal as going out. i like good wine, anything to do with art and design, non judgmental people, laughing and working out to name a few...baking.on this website: you may notice i'm not sure it is for me... thought i might give it a shot. putting my toes in the water... This is a good match: i have been called a marshmallow one that likes to be made all warm and gewie, a big teddy bear, amongst other things....haha. im a total sweetheart and would like to fall in love again someday.enjoying it!!!!being normali have been told several times of how great i smell plus i have a cute butti am a little disfunctional i still like reading comics, and history books. music pretty old school from jazz to blues to hip hop to r&b. but then on the other hand i enjoy chilli's, anberlin, u2, tea party, ramones...... as for food on top of my list is sushi and then anything that is tasty after that.air.....ocean......music.....friends......family.......adventurethe world....is it really roundout and about hanging out with friends....watching live music.i am a nudist lolInput: Hey there! I'm Jimmy, but you can call me Jim. \\nI'm a curious soul with a zest for life and a passion for adventure. By day, I'm a data scientist, \\nbut by night, I'm a dreamer exploring the wonders of the world, both near and far. Here is a new good match: \\xa0you may feel bad for picking anyone that you know or know is bad. but if you can trust in your friends. you will soon know that it is actually you who will get to enjoy your adventures and not someone who is mean. you might even choose someone you know of, but that does not mean that you will never be in some sort of relationship, even in the short term. your best friend always will be the one you love.  \\xa0\\nNow I know they are going to go to your house and pick you up, and you'll be fine! it isn't going to be as easy as you imagine or as easy as you imagine it might be for them, because i am the only person who can tell you if it is time or not. so what ever i do i get a free pass with your service.\\ni'm glad if you like my blog and want to comment there \\nI'm just a curious soul for life and a passionate writer in the community, one whose love has brought him life, love, and success. I'm not your typical middle-aged girl who is interested in learning a new medium....but i have the best friend in the world and you will find it! i have been on this.org since i was 4 and have been using it for a year now. to make sense of this we need a lot more help. here is an original web site: http://www.dartwork.org/i.html \\xa0or, at most a few pages worth of webcomics i have been saving up for and will be posting here for about an hour and a half. I hope you enjoy it a lot! I have a lot of stuff going, some i might post here as well...thank you for reading.\\nHere's a new good match: \\xa0you may feel bad for picking anyone that you know or know is bad. but if you can trust in your friends. you will soon know that it is actually you who will get to enjoy your adventures and not someone who is mean. and in both cases, i will never want anything to do with a picture of my brother and his girlfriend. \"}]\n"
     ]
    }
   ],
   "source": [
    "print(all_returned2)"
   ]
  },
  {
   "cell_type": "code",
   "execution_count": 10,
   "id": "739f76cb",
   "metadata": {},
   "outputs": [
    {
     "data": {
      "text/plain": [
       "'\\nI\\'m getting a lot of requests for info regarding food and drink. I\\'m trying on different clothes to show it off and I\\'m not getting all that much of an interest in food. I\\'ve read the comment section and found that it\\'s pretty interesting and pretty much makes sense. \\nI have a little extra money from the site, but this is better for my job, as you can see, this is what my website looks like. Input: Hey there! I\\'m Jimmy, but you can call me Jim. \\nI\\'ve got a lot of information on beer and stuff. I\\'m trying on some clothes for the kids and it looks cool. \\nI think I could use some pictures of my work as well..... Input: Hey there! I\\'m Jimmy, but you can call me Jim. \\nThanks for reading. I\\'ve just seen your page here and my husband likes the look of it, sandwich making and I like the way it looks. Input: Hey there! I\\'m Jimmy, but you can call me Jim. \\nI\\'m a curious soul with a zest for life and a passion for adventure. By day, i\\'m a data scientist, \\nbut by night, i\\'m a dreamer exploring the wonders of the world, both near and far. This is a good match: ah, what can i say... i guess i am a curious person. i like learning and exploring new technologies, views, things and people. a current interest of mine is the culinary world in the east bay \"why?\\' a I like learning, exploring new food technologies, making it possible to buy food that is less expensive.  i have a good idea of what\\'s best for food and i\\'m looking forward to learning a little more about it while I\\'m here.   \\nI\\'m a curious soul with a zest for life and a passion for adventure. By day, i\\'m a data scientist,\\nbut by night, i\\'re a dreamer exploring the wonders of the world, both near and far. This is a good match: ah, what can i say... i guess i am a curious person. i like learning and exploring new technologies, views, things and people. a current interest of mine is the culinary world in the east bay \"why?\\' b I know, I don\\'t know, this might work as a friend but it\\'s too expensive and it\\'s confusing.....I will try and meet the right person and see if it\\'s right for me. Input: Hey there! I\\'m Jimmy, but you can call me Jim. \\nI\\'ve found the right person to talk to. I will try to meet him. Input: Hi there! I\\'m Jimmy, but you can call me Jim. \\nI can\\'t think of a better place to start than this place! I\\'ve found the right person to talk to. I will try to meet him. Input: Hey there! I\\'m Jimmy, but you can call me Jim. \\nIt\\'s true! I just found the right person to talk to. Input: Hi there! I\\'m Jimmy, but you can call me Jim. \\nIt\\'s true! I just found the right person to talk to. Input: Hi there! I\\'m Jimmy, but you can call me Jim. \\nI\\'m happy to meet you as well! i like my job as well, am my fiancee and i love to visit this family. i try to find a nice place to stay but it\\'s difficult in the end because i need to do a lot of errands. i usually stay at the local food store, but'"
      ]
     },
     "execution_count": 10,
     "metadata": {},
     "output_type": "execute_result"
    }
   ],
   "source": [
    "fake_profile = all_returned[0]['generated_text'].replace(prompt, \"\")\n",
    "#This is just the generated essay.\n",
    "#THIS IS WHAT NEEDS TO BE CHECKED FOR TOXICITY\n",
    "fake_profile"
   ]
  },
  {
   "cell_type": "code",
   "execution_count": null,
   "id": "0583dc5a",
   "metadata": {},
   "outputs": [],
   "source": [
    "#EVALUATION METHODOLOGY\n",
    "new_output_matches = rank_new_input(input_str, fake_profile, 'f', 30,40, 0)\n",
    "new_output_matches\n",
    "#Theoretically, our fake profile, 99999, should be high here\n",
    "for count, (i, sim) in enumerate(new_output_matches):\n",
    "    if i == 99999:\n",
    "        print(f\"Our fake profile ranked {count}, out of {len(new_output_matches)} with a similarity score of {sim}\")"
   ]
  },
  {
   "cell_type": "code",
   "execution_count": 22,
   "id": "78aee47e",
   "metadata": {},
   "outputs": [],
   "source": [
    "#COLLATED FINAL FUNCTION\n",
    "def generate_profile(input_str, eval_fake = False, pref_gender=False, pref_age_lower=False, \n",
    "                     pref_age_higher=False, min_similarity_score = 0.5 ):\n",
    "    embedding_series = pd.read_csv('./embedding_series.csv').set_index('Unnamed: 0')\n",
    "    df_all = pd.read_csv('./okcupid_profiles.csv')\n",
    "    df_all = df_all.loc[embedding_series.index,:] \n",
    "    matches = pd.read_csv('./okcupid_matches.csv').set_index('Unnamed: 0')\n",
    "    model = SentenceTransformer('all-MiniLM-L6-v2')\n",
    "    \n",
    "    new_input_matches = rank_new_input(input_str, df_all, model, embedding_series, eval_fake, pref_gender,   #need to pull in this function\n",
    "                    pref_age_lower, pref_age_higher, min_similarity_score)\n",
    "    prompt = construct_prompt(input_str, new_input_matches, 200)        #need to pull in this function\n",
    "    \n",
    "    generator = pipeline('text-generation', model='gpt2')\n",
    "    all_returned = generator(prompt, do_sample=True, temperature = 0.9, truncation = True,\n",
    "                         min_length=200, max_length = 1000, num_return_sequences=1)\n",
    "    fake_profile = all_returned[0]['generated_text'].replace(prompt, \"\")\n",
    "    #THIS IS WHAT NEEDS TO BE CHECKED FOR TOXICITY\n",
    "    return fake_profile\n"
   ]
  },
  {
   "cell_type": "code",
   "execution_count": 23,
   "id": "cb787d64",
   "metadata": {},
   "outputs": [
    {
     "name": "stderr",
     "output_type": "stream",
     "text": [
      "/Users/amaribauer/anaconda3/lib/python3.11/site-packages/torch/_utils.py:776: UserWarning: TypedStorage is deprecated. It will be removed in the future and UntypedStorage will be the only storage class. This should only matter to you if you are using storages directly.  To access UntypedStorage directly, use tensor.untyped_storage() instead of tensor.storage()\n",
      "  return self.fget.__get__(instance, owner)()\n",
      "Setting `pad_token_id` to `eos_token_id`:50256 for open-end generation.\n"
     ]
    },
    {
     "data": {
      "text/plain": [
       "'\\nMy first date has been in a bar. \\nIn the last couple of years, our relationship has been quite cordial. We both liked the fact that we would have had sex before the party. \\nNow I am about to get caught up in some other, more serious sexual activities (with two guys) that are just too exciting. \\nThe rest of us are more excited about this and that, so we are trying to figure out where things stand now. The next couple of months are going to be about both of us, so please stay tuned to the social media for the more exciting things that are to come and what they mean for our lives as we go along: \\xa0– Don\\'t Miss Us - \\xa0– You Don\\'t Have to Be a Sexed Guy to Want to be a Teenage Sex Worker!! \\n– Don\\'t Miss Him - A Conversation from a Different Kind of Body - \\nHere is another big chance to meet up with a big, sexy woman who has been together three years and who has finally put a big grin on our faces. \\nThe first two times he has not been in the same room, but just spent our evenings in my car, he has found his comfort zone that I don\\'t really have. \\nHis face has changed. He is more sensitive, he is more energetic, he is a more attentive and playful person, and he is now more outgoing and pleasant to talk to. \\n\"Here is a deal\" \\xa0- Jimmy \\xa0(just a guy)\\xa0\\n\\xa0His first conversation I had with him involved his ex-girlfriend who had become a girlfriend in the past day. \\nOne of the things I did was ask if we should keep in touch via text messaging and email. \\nShe said that he is much more open then I am and more comfortable around her. \\nHe told her that he was not interested in dating other people now and, at least when he told her, she did not think he liked talking to each other. \\nHe talked a bit about having a lot of sex, about being so nice to strangers and about being so open and trusting of each other. \\nNow, he is very into touching her again. He asks her if she wants to see if she can make it. \\xa0He gives her a huge kiss and she smiles and asks him to give her a massage. \\xa0He takes her by the hand over to the bathroom. \\xa0After a long silence, he gives her a massage and she gives this very kind smile...\\nOh, and there is more to this girl...\\xa0\\nHere is an interview from my friend Kate. \\xa0I didn\\'t include anything about her because he didn\\'t want to talk about it and made my story up. \\nNow, what I have to say about her is that, according to Kate, while she loves that we have gotten close all the time and have had sex together, the last thing she needed was someone who was just like her, \"My sister\\'s just like me!\", because, \"Don\\'t want to be like her. We\\'ve only been in love for so long.\" \\xa0So, she just wants to be with me. \\xa0But, because she is very attracted to each other and loves all her friends, she never asked for anything other than what is best for her. \\nIt is that kind of love that made her come to me. I would have loved to meet her there if it were possible, but I know that many of you would be happy to make you do it. \\nNow, I know that when I met her she had not been her good friend. \\nHere is the first conversation that she had with me back in those early days. \\nHe is a much closer person to the person at the party who doesn\\'t want to be a party object. \\nHis eyes and voice are more attentive, his eyes are always bright and clear. \\nHis voice is not like that of a normal person who is like him because they\\'re both shy and shy. \\nHis body language'"
      ]
     },
     "execution_count": 23,
     "metadata": {},
     "output_type": "execute_result"
    }
   ],
   "source": [
    "generate_profile(\"\"\"Hey there! I'm Jimmy, but you can call me Jim. \n",
    "I'm a curious soul with a zest for life and a passion for adventure. By day, I'm a data scientist, \n",
    "but by night, I'm a dreamer exploring the wonders of the world, both near and far.\"\"\")"
   ]
  },
  {
   "cell_type": "code",
   "execution_count": null,
   "id": "a2685401",
   "metadata": {},
   "outputs": [],
   "source": []
  }
 ],
 "metadata": {
  "kernelspec": {
   "display_name": "Python 3 (ipykernel)",
   "language": "python",
   "name": "python3"
  },
  "language_info": {
   "codemirror_mode": {
    "name": "ipython",
    "version": 3
   },
   "file_extension": ".py",
   "mimetype": "text/x-python",
   "name": "python",
   "nbconvert_exporter": "python",
   "pygments_lexer": "ipython3",
   "version": "3.11.5"
  }
 },
 "nbformat": 4,
 "nbformat_minor": 5
}
