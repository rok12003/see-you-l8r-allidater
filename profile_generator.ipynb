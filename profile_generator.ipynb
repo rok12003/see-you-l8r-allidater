{
 "cells": [
  {
   "cell_type": "markdown",
   "id": "0b54e476",
   "metadata": {},
   "source": [
    "This file details our efforts to compare a variety of different prompts and parameters in the use of a pretrained model to conduct few shot learning and generate a fake profile that sounds indistinguishable from other top matches.\n",
    "\n",
    "Different avenues explored include using:\n",
    "    - Full essays \n",
    "        - Example prompt:\n",
    "            Input: \n",
    "            Output:\n",
    "            Input:\n",
    "            Output:\n",
    "            Input:\n",
    "            \n",
    "    - First x number of characters of an essay\n",
    "            Example prompt: Same as above but cut off each essay after x characters\n",
    "            \n",
    "    - Good and bad match\n",
    "        - Example prompt:\n",
    "            This is the input essay: \n",
    "            This is a good match:\n",
    "            This is a bad match: \n",
    "            Write a new good match:\n",
    "            \n",
    "    - Experiment with different parameters of the generate function\n",
    "    \n",
    "    - different/larger versions of GPT - implement when we have more computational resources\n",
    "\n",
    "\n",
    "\n",
    "**NEED TO UPDATE This file loads in a pretrained model from the HuggingFace library, and uses most of an individuals essays and a csv containing the indices of their top match, to construct a prompt for a few shot encoder to produce a fake profile in the same style/tone that should also be a good match for them.\n",
    "\n",
    "\n"
   ]
  },
  {
   "cell_type": "code",
   "execution_count": 144,
   "id": "d15d3666",
   "metadata": {},
   "outputs": [
    {
     "name": "stderr",
     "output_type": "stream",
     "text": [
      "Setting `pad_token_id` to `eos_token_id`:50256 for open-end generation.\n"
     ]
    },
    {
     "name": "stdout",
     "output_type": "stream",
     "text": [
      "EleutherAI has released a major new study based on a series of studies showing that the species has been affected by extinction for many generations. This study from the University of Colorado and the University of Massachusetts-Dade, U.S., shows that\n"
     ]
    }
   ],
   "source": [
    "from transformers import pipeline\n",
    "import pandas as pd\n",
    "\n",
    "generator = pipeline('text-generation', model='distilgpt2') #CONSIDER USING FULL GPT-2 OR GPT-2-SMALL IN CLOUD\n",
    "\n",
    "generated_text = generator(\"EleutherAI has\", max_length=50, num_return_sequences=1, truncation = True)\n",
    "\n",
    "print(generated_text[0]['generated_text'])\n"
   ]
  },
  {
   "cell_type": "code",
   "execution_count": 40,
   "id": "880f1622",
   "metadata": {},
   "outputs": [],
   "source": [
    "#Loading in the csv with the top five people that are matches for our person\n",
    "\n",
    "top_indices = pd.read_csv('top5_indices.csv').set_index('Unnamed: 0')\n",
    "top_indices.columns = ['match_idx']"
   ]
  },
  {
   "cell_type": "code",
   "execution_count": 41,
   "id": "d355a5e1",
   "metadata": {},
   "outputs": [
    {
     "data": {
      "text/html": [
       "<div>\n",
       "<style scoped>\n",
       "    .dataframe tbody tr th:only-of-type {\n",
       "        vertical-align: middle;\n",
       "    }\n",
       "\n",
       "    .dataframe tbody tr th {\n",
       "        vertical-align: top;\n",
       "    }\n",
       "\n",
       "    .dataframe thead th {\n",
       "        text-align: right;\n",
       "    }\n",
       "</style>\n",
       "<table border=\"1\" class=\"dataframe\">\n",
       "  <thead>\n",
       "    <tr style=\"text-align: right;\">\n",
       "      <th></th>\n",
       "      <th>match_idx</th>\n",
       "    </tr>\n",
       "    <tr>\n",
       "      <th>Unnamed: 0</th>\n",
       "      <th></th>\n",
       "    </tr>\n",
       "  </thead>\n",
       "  <tbody>\n",
       "    <tr>\n",
       "      <th>0</th>\n",
       "      <td>4</td>\n",
       "    </tr>\n",
       "    <tr>\n",
       "      <th>1</th>\n",
       "      <td>8</td>\n",
       "    </tr>\n",
       "    <tr>\n",
       "      <th>2</th>\n",
       "      <td>9</td>\n",
       "    </tr>\n",
       "    <tr>\n",
       "      <th>3</th>\n",
       "      <td>2</td>\n",
       "    </tr>\n",
       "    <tr>\n",
       "      <th>4</th>\n",
       "      <td>5</td>\n",
       "    </tr>\n",
       "  </tbody>\n",
       "</table>\n",
       "</div>"
      ],
      "text/plain": [
       "            match_idx\n",
       "Unnamed: 0           \n",
       "0                   4\n",
       "1                   8\n",
       "2                   9\n",
       "3                   2\n",
       "4                   5"
      ]
     },
     "execution_count": 41,
     "metadata": {},
     "output_type": "execute_result"
    }
   ],
   "source": [
    "top_indices"
   ]
  },
  {
   "cell_type": "code",
   "execution_count": 61,
   "id": "fe6a0429",
   "metadata": {},
   "outputs": [],
   "source": [
    "df = pd.read_csv(\"classifier/classifier_outputs.csv\").set_index('Unnamed: 0')"
   ]
  },
  {
   "cell_type": "code",
   "execution_count": 133,
   "id": "0583dc5a",
   "metadata": {},
   "outputs": [
    {
     "name": "stdout",
     "output_type": "stream",
     "text": [
      "Write a completely new dating profile that is a good match for the input profile \n",
      " Input: i keep lots of pens and paper around. i enjoy virtually anything athletic (rock climbing, hiking, sports,...) except running for running's sake, which i respect but do not enjoy (except when involved in not-running). i have no respect for people who can't change their opinions in the face of new evidence. i do not believe that the real numbers really exist because i do not believe in the power-set axiom of set theory for infinite sets. whatever that means. and i'm from texas but don't hold it against me.\n",
      " Output: the quintessential san francisco experience is to randomly meet strangers and party on their roof. i have two other friends from ohio move out here and they've had that same experience each within the first month of living here. it's that kind of random cool stuff that makes me stay in this city and doesn't allow me to entertain thoughts of moving back to the stripmall paradise of boredom that is the midwest.  i have a great group of friends, which is the most valuable thing i've achieved since i arrived. i work for a social services non-profit that does good work for people in need and i'm steering my career towards working on larger organizational development projects, so everything on the horizon is looking good. i originally came out here under the guise of graduate school, which i wrapped up with a masters awhile back.  i am enamored with blue bottle coffee.  a friend and i end up writing a lot of ridiculous songs because it's impossible for us to hang out and not play guitar and have fun. we've been in both serious rock bands and comedic ones like flight of the conchords.  i am great at escalating good ideas. once, a simple trip to alcatraz turned into a movie-marathon, t-shirt competition, and scavenger hunt.\n",
      " Input: i keep lots of pens and paper around. i enjoy virtually anything athletic (rock climbing, hiking, sports,...) except running for running's sake, which i respect but do not enjoy (except when involved in not-running). i have no respect for people who can't change their opinions in the face of new evidence. i do not believe that the real numbers really exist because i do not believe in the power-set axiom of set theory for infinite sets. whatever that means. and i'm from texas but don't hold it against me.\n",
      " Output: \n"
     ]
    }
   ],
   "source": [
    "#Build the prompt that we're going to use for few shot encoding with our model\n",
    "#NEEDS TO BE UPDATED, include a max length functionality\n",
    "def construct_prompt(df, top_matches, input_prompt):\n",
    "    top_subset = df.loc[top_indices.loc[:2,'match_idx'],'essay0']\n",
    "    prompt = \"Write a completely new dating profile that is a good match for the input profile \"\n",
    "    for match in top_subset: \n",
    "        if type(match) is float: \n",
    "             continue\n",
    "        prompt = prompt + \"\\n \" + \"Input: \" + input_prompt + \"\\n Output: \" + match\n",
    "    prompt = prompt + \"\\n \" + \"Input: \" + input_prompt + \"\\n\" + \" Output: \"\n",
    "    return prompt\n",
    "essay_prompt = construct_prompt(df , top_indices, df.loc[6,'essay0'])\n",
    "print(essay_prompt)  "
   ]
  },
  {
   "cell_type": "code",
   "execution_count": 142,
   "id": "214ee1e0",
   "metadata": {},
   "outputs": [
    {
     "name": "stderr",
     "output_type": "stream",
     "text": [
      "Setting `pad_token_id` to `eos_token_id`:50256 for open-end generation.\n"
     ]
    }
   ],
   "source": [
    "\n",
    "all_returned = generator(essay_prompt, do_sample=True, temperature = 0.9,\n",
    "                         min_length=50, max_length = 1024, num_return_sequences=1)"
   ]
  },
  {
   "cell_type": "code",
   "execution_count": 143,
   "id": "8fcd97fa",
   "metadata": {},
   "outputs": [
    {
     "data": {
      "text/plain": [
       "\"iphone x 1 + 1\\nI've come to the point where I think everyone should have to go to some places to live where their computer doesn't have anything to do with it. at the same time, you need to go to a place they live where your computer might not be there.\\nInput: i put in a lot of money, and we all get to use it for a purpose. We might be seeing a new car, but it is too expensive for us to invest in it and we have no money to spend.\\ninput: i put in a lot of money, and we all get to use it for a purpose. We might be seeing a new car, but it is too expensive for us to invest in it and we have no money to invest. i put in a lot of money, and we all get to use it for a purpose. We might be seeing a new car, but it is too expensive for us to invest in it and we have no money to spend. i put in a lot of money, and we all get to use it for a purpose. We might be seeing a new car, but it is too expensive for us to invest in it and we have no money to spend. I have to keep my own money. I had to leave a large portion of my income in the state by the time I graduated from school and moved to Santa Barbara. I went from that place to Santa Barbara and lived in a lot of different places to live.\\ninput: im talking about the way you do things while you're not. when you're not. if you're doing something, it won't help you.\\nInput: im talking about the way you do things while you're not. if you're doing something, it won't help you. i can't make it into a movie film. it torment a lot of everyone and that's not always the case. i don't have a movie film that's too expensive to go to and be there. i can't make it into a movie film. it torment a lot of everyone and that's not always the case. i can't make it into a movie film. it torment a lot of everyone and that's not always the case. i can't make it into a movie film film. it torment a lot of everyone and that's not always the case. i can't make it into a movie film film. it torment a lot of everyone and that's not always the case. i\""
      ]
     },
     "execution_count": 143,
     "metadata": {},
     "output_type": "execute_result"
    }
   ],
   "source": [
    "#This is just the generated essay. \n",
    "all_returned[0]['generated_text'].replace(essay_prompt, \"\")"
   ]
  },
  {
   "cell_type": "code",
   "execution_count": null,
   "id": "b8331bac",
   "metadata": {},
   "outputs": [],
   "source": []
  }
 ],
 "metadata": {
  "kernelspec": {
   "display_name": "Python 3 (ipykernel)",
   "language": "python",
   "name": "python3"
  },
  "language_info": {
   "codemirror_mode": {
    "name": "ipython",
    "version": 3
   },
   "file_extension": ".py",
   "mimetype": "text/x-python",
   "name": "python",
   "nbconvert_exporter": "python",
   "pygments_lexer": "ipython3",
   "version": "3.11.5"
  }
 },
 "nbformat": 4,
 "nbformat_minor": 5
}
